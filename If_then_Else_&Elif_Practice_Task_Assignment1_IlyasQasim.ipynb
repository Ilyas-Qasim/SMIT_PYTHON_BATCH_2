{
  "cells": [
    {
      "cell_type": "markdown",
      "metadata": {},
      "source": [
        "```text\n",
        "Assignment 01\n",
        "Assigned by : Sir Faisal Amin\n",
        "Batch : PY BATCH(2) 9 TO 11 PM (Tue & Thu)\n",
        "Student Name : Muhammad Ilyas (PY-173086)\n",
        "```"
      ]
    },
    {
      "cell_type": "raw",
      "metadata": {
        "id": "YM3hMu3fkZHL"
      },
      "source": [
        "1) A company decided to give bonus of 5% to employee if his/her year of service is more than 5 years.\n",
        "Ask user for their salary and year of service and print the net bonus amount."
      ]
    },
    {
      "cell_type": "code",
      "execution_count": 24,
      "metadata": {
        "id": "yc7NX4cWkZHO"
      },
      "outputs": [
        {
          "name": "stdout",
          "output_type": "stream",
          "text": [
            "Your Service Period : 6 Years\n",
            "Your salary : Rs. 50,000\n",
            "Your Bonus : Rs. 2,500 for One Month\n",
            "Your Bonus : Rs. 30,000 for One Year\n"
          ]
        }
      ],
      "source": [
        "# This Python program calculates the bonus an employee is eligible for based on their salary and years of service.\n",
        "\n",
        "salary = int(input(\"Enter your salary: \"))\n",
        "service_years = int(input(\"Enter Your Years of service: \"))\n",
        "\n",
        "if service_years > 5: # The `if` statement checks if the employee has more than 5 years of service.\n",
        "    bonus = (salary)*5/100 # Calculate the bonus amount\n",
        "    print(\"Your Service Period :\",  service_years, \"Years\")\n",
        "    print(\"Your salary : Rs.\",f\"{salary:,}\") # The `f-string` is used to format the bonus amount with commas.\n",
        "    print(\"Your Bonus : Rs.\", f\"{bonus:,.0f}\", \"for One Month\")\n",
        "    print(\"Your Bonus : Rs.\", f\"{(bonus*12):,.0f}\", \"for One Year\")\n",
        "else: # The `else` statement is executed if the employee does not have more than 5 years of service.\n",
        "     print(\"You are not eligible for the bonus as you have less service years.\")"
      ]
    },
    {
      "cell_type": "markdown",
      "metadata": {
        "id": "KfhIX1uckZHQ"
      },
      "source": [
        "\n",
        "2) Write a program to check whether a person is eligible for voting or not. (accept age from user) if age is greater than 17 eligible otherwise not eligible"
      ]
    },
    {
      "cell_type": "code",
      "execution_count": 5,
      "metadata": {
        "colab": {
          "base_uri": "https://localhost:8080/"
        },
        "id": "OKkorpP8kZHS",
        "outputId": "664e0f19-8d60-4a5c-fd30-9bd9761f9018"
      },
      "outputs": [
        {
          "name": "stdout",
          "output_type": "stream",
          "text": [
            "Enter your Age : 18\n",
            "You are Eligible to Vote\n"
          ]
        }
      ],
      "source": [
        "# This Python program checks whether a person is eligible to vote based on their age.\n",
        "age = int(input(\"Enter your Age : \")) \n",
        "if age > 17 : # This `if` statement checks if the user's age is greater than 17.\n",
        "  print(\"You are Eligible to Vote\")\n",
        "else: \n",
        "  print(\"You are not Eligble to Vote\")"
      ]
    },
    {
      "cell_type": "markdown",
      "metadata": {
        "id": "hWCk3lNskZHT"
      },
      "source": [
        "\n",
        "3) Write a program to check whether a number entered by user is even or odd."
      ]
    },
    {
      "cell_type": "code",
      "execution_count": 17,
      "metadata": {
        "colab": {
          "base_uri": "https://localhost:8080/"
        },
        "id": "OQ_FDxjxkZHU",
        "outputId": "f5fbd682-9d5e-4d60-b203-86bebff0149c"
      },
      "outputs": [
        {
          "name": "stdout",
          "output_type": "stream",
          "text": [
            "Enter any number : 33\n",
            "33  is Odd Number\n"
          ]
        }
      ],
      "source": [
        "# This Python program checks whether a given number is even or odd.\n",
        "num = int(input(\"Enter any number : \"))\n",
        "#the `if` statement to check if the number is even.\n",
        "#The condition `(num % 2) == 0` checks if the remainder of the division of `num` by 2 is equal to 0.\n",
        "if (num % 2) == 0: \n",
        "  print(num, \" is Even Number\")\n",
        "else: # If the number is not even\n",
        "  print(num, \" is Odd Number\")"
      ]
    },
    {
      "cell_type": "markdown",
      "metadata": {
        "id": "x6N3ib6skZHV"
      },
      "source": [
        "4) Write a program to check whether a number is divisible by 7 or not.\n",
        "Show Answer"
      ]
    },
    {
      "cell_type": "code",
      "execution_count": 19,
      "metadata": {
        "colab": {
          "base_uri": "https://localhost:8080/"
        },
        "id": "mcg_mJ5ukZHV",
        "outputId": "5071934b-4e9e-4b40-ac59-a9fcf392d3df"
      },
      "outputs": [
        {
          "name": "stdout",
          "output_type": "stream",
          "text": [
            "Enter any number : 5219\n",
            "5219  is Not Divisable by 7\n"
          ]
        }
      ],
      "source": [
        "# This Python program checks if a given integer is divisible by 7\n",
        "num1 = int(input(\"Enter any number : \"))\n",
        "# The `if` statement checks if the remainder of `num1` divided by 7 is equal to 0.\n",
        "# he modulo operator `%` calculates the remainder of the division.\n",
        "if (num1 % 7) == 0:\n",
        "  print(num1, \" is Divisable by 7\")\n",
        "else: # If `num1` is not divisible by 7\n",
        "  print(num1, \" is Not Divisable by 7\")"
      ]
    },
    {
      "cell_type": "raw",
      "metadata": {
        "id": "L2dxRQPGkZHW"
      },
      "source": [
        "5) Write a program to display\n",
        "\"Hello\" if a number entered by user is a multiple of five , otherwise print \"Bye\"."
      ]
    },
    {
      "cell_type": "code",
      "execution_count": 28,
      "metadata": {
        "id": "nocdgfkVkZHX"
      },
      "outputs": [
        {
          "name": "stdout",
          "output_type": "stream",
          "text": [
            "Bye\n"
          ]
        }
      ],
      "source": [
        "# This Python program takes a user input of any number and checks if it is multiply by 5\n",
        "num2 = int(input(\"Enter any number : \"))\n",
        "if (num2 % 5) == 0: # Checking if the number is multiply by 5\n",
        "  print(\"Hello\")\n",
        "else: # If `num2` is not multiply by 7\n",
        "  print(\"Bye\")"
      ]
    },
    {
      "cell_type": "raw",
      "metadata": {
        "id": "OXbHUSo4kZHX"
      },
      "source": [
        "7) Write a program to display the last digit of a number."
      ]
    },
    {
      "cell_type": "code",
      "execution_count": 34,
      "metadata": {
        "id": "PEkFShlPkZHY"
      },
      "outputs": [
        {
          "name": "stdout",
          "output_type": "stream",
          "text": [
            "7\n"
          ]
        }
      ],
      "source": [
        "#  This program Extracts the Last Digit of a Number\n",
        "num3 = int(input(\"Type any number : \")) \n",
        "num3 = str(num3) # Convert the number to a string (Typecasting)\n",
        "print(num3[-1]) # Extract the last character of the string (which is the last digit of the number)"
      ]
    },
    {
      "cell_type": "raw",
      "metadata": {
        "id": "mYXwHkRdkZHZ"
      },
      "source": [
        "Q8. Write a program to check whether the last digit of a number( entered by user ) is\n",
        "divisible by 3 or not."
      ]
    },
    {
      "cell_type": "code",
      "execution_count": 40,
      "metadata": {
        "id": "sDprVw0PkZHZ"
      },
      "outputs": [
        {
          "name": "stdout",
          "output_type": "stream",
          "text": [
            "5 is Not Divisable by 3\n"
          ]
        }
      ],
      "source": [
        "# Python Program to Check if the Last Digit of a Number is Divisible by 3\n",
        "num4 = int(input(\"Enter any number : \"))\n",
        "num4 = str(num4) # Converting the Number to a String (Typecasting)\n",
        "last_digit = num4[-1] # Extracting the Last Digit\n",
        "if (int(last_digit) % 3) == 0: # Checking Divisibility by 3\n",
        "    print(last_digit, \"is Divisable by 3\")\n",
        "else: \n",
        "    print(last_digit, \"is Not Divisable by 3\")     "
      ]
    },
    {
      "cell_type": "raw",
      "metadata": {
        "id": "TFy10tdekZHa"
      },
      "source": [
        "9) Take values of length and breadth of a rectangle from user and print if it is square or rectangle."
      ]
    },
    {
      "cell_type": "code",
      "execution_count": null,
      "metadata": {
        "id": "A_uIMPMwkZHa"
      },
      "outputs": [],
      "source": [
        "#Type your code here"
      ]
    },
    {
      "cell_type": "raw",
      "metadata": {
        "id": "KyVuTaDHkZHb"
      },
      "source": [
        "10) Take two int values from user and print greatest among them."
      ]
    },
    {
      "cell_type": "code",
      "execution_count": 44,
      "metadata": {
        "id": "JtFYiUu3kZHb"
      },
      "outputs": [
        {
          "name": "stdout",
          "output_type": "stream",
          "text": [
            "100 : Value 1 is greater then  50 : Value 2\n"
          ]
        }
      ],
      "source": [
        "# This Python code compares two numbers entered by the user and prints the greater of the two numbers.\n",
        "val1 = int(input(\"Enter Value 1 : \"))\n",
        "val2 = int(input(\"Enter Value 2 : \"))\n",
        "# This code compares the values of `val1` and `val2` using the `>` operator\n",
        "if val1 > val2: \n",
        "    print(val1, \": Value 1 is greater then \",val2, \": Value 2\")\n",
        "else:\n",
        "    print(val2, \": Value 2 is greater then \",val1, \": Value 1\")"
      ]
    },
    {
      "cell_type": "raw",
      "metadata": {
        "id": "J12C94ilkZHc"
      },
      "source": [
        "11) A shop will give discount of 10% if the cost of purchased quantity is more than 1000.\n",
        "Ask user for quantity\n",
        "Suppose, one unit will cost 100.\n",
        "Judge and print total cost for user."
      ]
    },
    {
      "cell_type": "code",
      "execution_count": 55,
      "metadata": {
        "id": "0jTRQ-5jkZHc"
      },
      "outputs": [
        {
          "name": "stdout",
          "output_type": "stream",
          "text": [
            "You got '10%' discount:\n",
            "Qty Purchase :  25 \n",
            " Unit Price : 200 \n",
            "\n",
            "Gross Amount :  5,000 \n",
            " 10% Discount : 500 \n",
            "\n",
            "Net Amount :  4,500\n"
          ]
        }
      ],
      "source": [
        "#  Python program to calculate discount on purchase more then Rs. 1000\n",
        "qty = int(input(\"Enter Qty Purchased :\"))\n",
        "unit_price = int(input(\"Enter Unit Price :\"))\n",
        "total_amount = qty*unit_price\n",
        "if total_amount > 1000:\n",
        "    discount = total_amount*0.1\n",
        "    net_amount = total_amount - discount\n",
        "    print(\"You got '10%' discount:\")\n",
        "    print(\"Qty Purchase : \", f\"{qty:,}\",'\\n',\"Unit Price :\", f\"{unit_price:,}\",'\\n')\n",
        "    print(\"Gross Amount : \", f\"{total_amount:,}\",'\\n',\"10% Discount :\", f\"{discount:,.0f}\",'\\n')\n",
        "    print(\"Net Amount : \", f\"{net_amount:,.0f}\")\n"
      ]
    },
    {
      "cell_type": "raw",
      "metadata": {
        "id": "qD2fstUikZHd"
      },
      "source": [
        "12) A school has following rules for grading system:\n",
        "\n",
        "a. Below 25 - F\n",
        "\n",
        "b. 25 to 45 - E\n",
        "\n",
        "c. 45 to 50 - D\n",
        "\n",
        "d. 50 to 60 - C\n",
        "\n",
        "e. 60 to 80 - B\n",
        "\n",
        "f. Above 80 - A\n",
        "\n",
        "Ask user to enter marks and print the corresponding grade."
      ]
    },
    {
      "cell_type": "code",
      "execution_count": 69,
      "metadata": {
        "id": "ZVU1Xc-xkZHe"
      },
      "outputs": [
        {
          "name": "stdout",
          "output_type": "stream",
          "text": [
            "Grage A\n"
          ]
        }
      ],
      "source": [
        "# his program calculates the grade of a student based on the marks obtained\n",
        "marks = int(input(\"Enter Obtained Marks\"))\n",
        "avage = marks / 5\n",
        "if avage < 25:\n",
        "    print(\"Grage F\")\n",
        "elif avage > 25 and avage <= 45:\n",
        "    print(\"Grage E\")\n",
        "elif avage > 45 and avage <= 50:\n",
        "    print(\"Grage D\")\n",
        "elif avage > 50 and avage <= 60:\n",
        "    print(\"Grage C\")\n",
        "elif avage > 60 and avage <= 80:\n",
        "    print(\"Grage B\")\n",
        "elif avage > 80:\n",
        "    print(\"Grage A\")\n"
      ]
    },
    {
      "cell_type": "raw",
      "metadata": {
        "id": "D7pmFZXGkZHe"
      },
      "source": [
        "14)A student will not be allowed to sit in exam if his/her attendence is less than 75%.\n",
        "\n",
        "Take following input from user\n",
        "\n",
        "Number of classes held\n",
        "\n",
        "Number of classes attended.\n",
        "\n",
        "And print\n",
        "\n",
        "percentage of class attended\n",
        "\n",
        "Is student is allowed to sit in exam or not.\n"
      ]
    },
    {
      "cell_type": "code",
      "execution_count": 83,
      "metadata": {
        "id": "3YsczC-ekZHf"
      },
      "outputs": [
        {
          "name": "stdout",
          "output_type": "stream",
          "text": [
            "You are allowed to sit exam:\n",
            "Your Percentage : 80%\n"
          ]
        }
      ],
      "source": [
        "# This Python program calculates the attendance percentage\n",
        "tot_class = int(input(\"Enter total of  Classes :\"))\n",
        "att_class = int(input(\"Enter total Classes Attended :\"))\n",
        "class_per = att_class / tot_class * 100\n",
        "if class_per < 75:\n",
        "    print(\"You are not allowed to sit exam:\")\n",
        "    print(\"Your Percentage :\",f\"{class_per:.0f}\"+\"%\")\n",
        "else:\n",
        "    print(\"You are allowed to sit exam:\")\n",
        "    print(\"Your Percentage :\",f\"{class_per:.0f}\"+\"%\")\n"
      ]
    },
    {
      "cell_type": "raw",
      "metadata": {
        "id": "rOUdzh-3kZHg"
      },
      "source": [
        "15) Modify the above question to allow student to sit if he/she has medical cause. Ask user if he/she has medical cause or not ( 'Y' or 'N' ) and print accordingly."
      ]
    },
    {
      "cell_type": "code",
      "execution_count": 97,
      "metadata": {
        "id": "LX2USuTukZHg"
      },
      "outputs": [
        {
          "name": "stdout",
          "output_type": "stream",
          "text": [
            "You are allowed to sit exam:\n"
          ]
        }
      ],
      "source": [
        "# This Python program medical cause\n",
        "m_cause = input(\"Do yoy have any Medical Problem type Y/N :\")\n",
        "if str.lower(m_cause) == \"y\" and str.upper(m_cause) == \"Y\":\n",
        "    print(\"You are not allowed to sit exam:\")\n",
        "    print(\"You Have Medical Problem\")\n",
        "else:\n",
        "    print(\"You are allowed to sit exam:\")\n"
      ]
    },
    {
      "cell_type": "raw",
      "metadata": {
        "id": "ukg6_13UkZHh"
      },
      "source": [
        "16) Write a program to check if a year is leap year or not.\n",
        "\n",
        "If a year is divisible by 4 then it is leap year but if the year is century year like 2000, 1900, 2100 then it must be divisible by 400."
      ]
    },
    {
      "cell_type": "code",
      "execution_count": 103,
      "metadata": {
        "id": "wVguzjr2kZHh"
      },
      "outputs": [
        {
          "name": "stdout",
          "output_type": "stream",
          "text": [
            "2000  is a Leap Year\n"
          ]
        }
      ],
      "source": [
        "# his code checks if a given year is a leap year or not.\n",
        "year = int(input(\"Enter year to check leap year or not :\"))\n",
        "if (year % 400) == 0 and (year % 100) == 0:\n",
        "    print(year, \" is a Leap Year\")\n",
        "elif (year % 4) == 0 and (year % 100) != 0:\n",
        "    print(year, \" is a Leap Year\")\n",
        "else:\n",
        "    print(year, \" is Not a Leap Year\")\n"
      ]
    },
    {
      "cell_type": "raw",
      "metadata": {
        "id": "xZ2M4OA-kZHi"
      },
      "source": [
        "17) Ask user to enter age, gender ( M or F ), marital status ( Y or N ) and then using following rules print their place of service.\n",
        "\n",
        "if employee is female, then she will work only in urban areas.\n",
        "\n",
        "if employee is a male and age is in between 20 to 40 then he may work in anywhere\n",
        "\n",
        "if employee is male and age is in between 40 t0 60 then he will work in urban areas only.\n",
        "\n",
        "And any other input of age should print \"ERROR\""
      ]
    },
    {
      "cell_type": "code",
      "execution_count": 122,
      "metadata": {
        "id": "OPeF_s0IkZHi"
      },
      "outputs": [
        {
          "name": "stdout",
          "output_type": "stream",
          "text": [
            "You only allowed to work in urban areas\n"
          ]
        }
      ],
      "source": [
        "\n",
        "gender = input(\"Enter your Gender M/F :\")\n",
        "if str.lower(gender) == \"f\" and str.upper(gender) == \"F\":\n",
        "    print(\"You only allowed to work in urban areas\")\n",
        "elif str.lower(gender) == \"m\" and str.upper(gender) == \"M\":\n",
        "    age = int(input(\"Enter your age :\"))\n",
        "    # m_status = input(\"Enter your Marital Status Y/N :\")\n",
        "    if age >= 20 and age <= 40:\n",
        "        print(\"You may work in anywhere\")\n",
        "    elif age >= 40 and age <= 60:\n",
        "        print(\"You only allowed to work in urban areas\")\n",
        "    elif age > 60:\n",
        "        print(\"ERROR\")\n",
        "\n"
      ]
    },
    {
      "cell_type": "raw",
      "metadata": {
        "id": "nvR6VGdHkZHj"
      },
      "source": [
        "6) Write a program to calculate the electricity bill (accept number of unit from user) according to the following criteria :\n",
        "     Unit                                                     Price\n",
        "uptp 100 units                                             no charge\n",
        "Next 200 units                                              Rs 5 per unit\n",
        "After 200 units                                             Rs 10 per unit\n",
        "(For example if input unit is 350 than total bill amount is Rs.3500\n",
        "(For example if input unit is 97 than total bill amount is Rs.0\n",
        "(For example if input unit is 150 than total bill amount is Rs.750"
      ]
    },
    {
      "cell_type": "code",
      "execution_count": 8,
      "metadata": {},
      "outputs": [
        {
          "name": "stdout",
          "output_type": "stream",
          "text": [
            "Your consumed Electricity Units are : 400 \n",
            " Bill amount is :  4000\n"
          ]
        }
      ],
      "source": [
        "e_units = int(input(\"Enter Electricity Units Consumed :\"))\n",
        "if e_units >= 1 and e_units <= 100:\n",
        "    print(\"Your consumed Electricity Units are :\", e_units,'\\n',\"There is no charges upto 100 units\",'\\n', \"Bill amount is 0\")\n",
        "elif e_units > 100 and e_units <= 200:\n",
        "    bill_amount = e_units * 5\n",
        "    print(\"Your consumed Electricity Units are :\", e_units,'\\n',\"Bill amount is : \", bill_amount)\n",
        "else:\n",
        "    bill_amount = e_units * 10\n",
        "    print(\"Your consumed Electricity Units are :\", e_units,'\\n',\"Bill amount is : \", bill_amount)\n",
        "\n"
      ]
    },
    {
      "cell_type": "raw",
      "metadata": {
        "id": "4dRG-4-XkZHk"
      },
      "source": [
        "13) Take input of age of 3 people by user and determine oldest and youngest among them."
      ]
    },
    {
      "cell_type": "code",
      "execution_count": 130,
      "metadata": {
        "id": "8PO3II3MkZHk"
      },
      "outputs": [
        {
          "name": "stdout",
          "output_type": "stream",
          "text": [
            "User 3 is Youngest then other Users\n"
          ]
        }
      ],
      "source": [
        "user1_age = int(input(\"User 1 Enter your Age :\"))\n",
        "user2_age = int(input(\"User 2 Enter your Age :\"))\n",
        "user3_age = int(input(\"User 3 Enter your Age :\"))\n",
        "if user1_age > user2_age and user1_age > user3_age:\n",
        "    print(\"User 1 is Oldest then other Users\")\n",
        "elif user2_age > user1_age and user2_age > user3_age:\n",
        "    print(\"User 2 is Older then other Users\")\n",
        "else:\n",
        "    print(\"User 3 is Youngest then other Users\")"
      ]
    }
  ],
  "metadata": {
    "colab": {
      "provenance": []
    },
    "kernelspec": {
      "display_name": "Python 3 (ipykernel)",
      "language": "python",
      "name": "python3"
    },
    "language_info": {
      "codemirror_mode": {
        "name": "ipython",
        "version": 3
      },
      "file_extension": ".py",
      "mimetype": "text/x-python",
      "name": "python",
      "nbconvert_exporter": "python",
      "pygments_lexer": "ipython3",
      "version": "3.12.0"
    }
  },
  "nbformat": 4,
  "nbformat_minor": 0
}
